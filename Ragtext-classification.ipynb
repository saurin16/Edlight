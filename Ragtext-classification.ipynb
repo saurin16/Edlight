{
  "cells": [
    {
      "cell_type": "code",
      "execution_count": 3,
      "metadata": {
        "id": "gt1sXzmpXf1_"
      },
      "outputs": [
        {
          "name": "stdout",
          "output_type": "stream",
          "text": [
            "Defaulting to user installation because normal site-packages is not writeable\n",
            "Requirement already satisfied: streamlit in c:\\users\\patel\\appdata\\roaming\\python\\python312\\site-packages (from -r requirements.txt (line 1)) (1.37.1)\n",
            "Requirement already satisfied: torch in c:\\users\\patel\\appdata\\roaming\\python\\python312\\site-packages (from -r requirements.txt (line 2)) (2.4.0)\n",
            "Requirement already satisfied: transformers in c:\\users\\patel\\appdata\\roaming\\python\\python312\\site-packages (from -r requirements.txt (line 3)) (4.44.0)\n",
            "Requirement already satisfied: scikit-learn in c:\\users\\patel\\appdata\\roaming\\python\\python312\\site-packages (from -r requirements.txt (line 4)) (1.5.1)\n",
            "Requirement already satisfied: numpy in c:\\users\\patel\\appdata\\roaming\\python\\python312\\site-packages (from -r requirements.txt (line 5)) (1.26.4)\n",
            "Requirement already satisfied: altair<6,>=4.0 in c:\\users\\patel\\appdata\\roaming\\python\\python312\\site-packages (from streamlit->-r requirements.txt (line 1)) (5.3.0)\n",
            "Requirement already satisfied: blinker<2,>=1.0.0 in c:\\users\\patel\\appdata\\roaming\\python\\python312\\site-packages (from streamlit->-r requirements.txt (line 1)) (1.8.1)\n",
            "Requirement already satisfied: cachetools<6,>=4.0 in c:\\users\\patel\\appdata\\roaming\\python\\python312\\site-packages (from streamlit->-r requirements.txt (line 1)) (5.3.3)\n",
            "Requirement already satisfied: click<9,>=7.0 in c:\\users\\patel\\appdata\\roaming\\python\\python312\\site-packages (from streamlit->-r requirements.txt (line 1)) (8.1.7)\n",
            "Requirement already satisfied: packaging<25,>=20 in c:\\users\\patel\\appdata\\roaming\\python\\python312\\site-packages (from streamlit->-r requirements.txt (line 1)) (23.2)\n",
            "Requirement already satisfied: pandas<3,>=1.3.0 in c:\\users\\patel\\appdata\\roaming\\python\\python312\\site-packages (from streamlit->-r requirements.txt (line 1)) (2.2.2)\n",
            "Requirement already satisfied: pillow<11,>=7.1.0 in c:\\users\\patel\\appdata\\roaming\\python\\python312\\site-packages (from streamlit->-r requirements.txt (line 1)) (10.4.0)\n",
            "Requirement already satisfied: protobuf<6,>=3.20 in c:\\users\\patel\\appdata\\roaming\\python\\python312\\site-packages (from streamlit->-r requirements.txt (line 1)) (4.25.4)\n",
            "Requirement already satisfied: pyarrow>=7.0 in c:\\users\\patel\\appdata\\roaming\\python\\python312\\site-packages (from streamlit->-r requirements.txt (line 1)) (17.0.0)\n",
            "Requirement already satisfied: requests<3,>=2.27 in c:\\users\\patel\\appdata\\roaming\\python\\python312\\site-packages (from streamlit->-r requirements.txt (line 1)) (2.31.0)\n",
            "Requirement already satisfied: rich<14,>=10.14.0 in c:\\users\\patel\\appdata\\roaming\\python\\python312\\site-packages (from streamlit->-r requirements.txt (line 1)) (13.7.1)\n",
            "Requirement already satisfied: tenacity<9,>=8.1.0 in c:\\users\\patel\\appdata\\roaming\\python\\python312\\site-packages (from streamlit->-r requirements.txt (line 1)) (8.5.0)\n",
            "Requirement already satisfied: toml<2,>=0.10.1 in c:\\users\\patel\\appdata\\roaming\\python\\python312\\site-packages (from streamlit->-r requirements.txt (line 1)) (0.10.2)\n",
            "Requirement already satisfied: typing-extensions<5,>=4.3.0 in c:\\users\\patel\\appdata\\roaming\\python\\python312\\site-packages (from streamlit->-r requirements.txt (line 1)) (4.12.2)\n",
            "Requirement already satisfied: gitpython!=3.1.19,<4,>=3.0.7 in c:\\users\\patel\\appdata\\roaming\\python\\python312\\site-packages (from streamlit->-r requirements.txt (line 1)) (3.1.43)\n",
            "Requirement already satisfied: pydeck<1,>=0.8.0b4 in c:\\users\\patel\\appdata\\roaming\\python\\python312\\site-packages (from streamlit->-r requirements.txt (line 1)) (0.9.0)\n",
            "Requirement already satisfied: tornado<7,>=6.0.3 in c:\\users\\patel\\appdata\\roaming\\python\\python312\\site-packages (from streamlit->-r requirements.txt (line 1)) (6.4)\n",
            "Requirement already satisfied: watchdog<5,>=2.1.5 in c:\\users\\patel\\appdata\\roaming\\python\\python312\\site-packages (from streamlit->-r requirements.txt (line 1)) (4.0.2)\n",
            "Requirement already satisfied: filelock in c:\\users\\patel\\appdata\\roaming\\python\\python312\\site-packages (from torch->-r requirements.txt (line 2)) (3.15.4)\n",
            "Requirement already satisfied: sympy in c:\\users\\patel\\appdata\\roaming\\python\\python312\\site-packages (from torch->-r requirements.txt (line 2)) (1.13.2)\n",
            "Requirement already satisfied: networkx in c:\\users\\patel\\appdata\\roaming\\python\\python312\\site-packages (from torch->-r requirements.txt (line 2)) (3.3)\n",
            "Requirement already satisfied: jinja2 in c:\\users\\patel\\appdata\\roaming\\python\\python312\\site-packages (from torch->-r requirements.txt (line 2)) (3.1.3)\n",
            "Requirement already satisfied: fsspec in c:\\users\\patel\\appdata\\roaming\\python\\python312\\site-packages (from torch->-r requirements.txt (line 2)) (2024.3.1)\n",
            "Requirement already satisfied: setuptools in c:\\users\\patel\\appdata\\roaming\\python\\python312\\site-packages (from torch->-r requirements.txt (line 2)) (72.2.0)\n",
            "Requirement already satisfied: huggingface-hub<1.0,>=0.23.2 in c:\\users\\patel\\appdata\\roaming\\python\\python312\\site-packages (from transformers->-r requirements.txt (line 3)) (0.24.5)\n",
            "Requirement already satisfied: pyyaml>=5.1 in c:\\users\\patel\\appdata\\roaming\\python\\python312\\site-packages (from transformers->-r requirements.txt (line 3)) (6.0.2)\n",
            "Requirement already satisfied: regex!=2019.12.17 in c:\\users\\patel\\appdata\\roaming\\python\\python312\\site-packages (from transformers->-r requirements.txt (line 3)) (2024.7.24)\n",
            "Requirement already satisfied: safetensors>=0.4.1 in c:\\users\\patel\\appdata\\roaming\\python\\python312\\site-packages (from transformers->-r requirements.txt (line 3)) (0.4.4)\n",
            "Requirement already satisfied: tokenizers<0.20,>=0.19 in c:\\users\\patel\\appdata\\roaming\\python\\python312\\site-packages (from transformers->-r requirements.txt (line 3)) (0.19.1)\n",
            "Requirement already satisfied: tqdm>=4.27 in c:\\users\\patel\\appdata\\roaming\\python\\python312\\site-packages (from transformers->-r requirements.txt (line 3)) (4.66.5)\n",
            "Requirement already satisfied: scipy>=1.6.0 in c:\\users\\patel\\appdata\\roaming\\python\\python312\\site-packages (from scikit-learn->-r requirements.txt (line 4)) (1.14.0)\n",
            "Requirement already satisfied: joblib>=1.2.0 in c:\\users\\patel\\appdata\\roaming\\python\\python312\\site-packages (from scikit-learn->-r requirements.txt (line 4)) (1.4.2)\n",
            "Requirement already satisfied: threadpoolctl>=3.1.0 in c:\\users\\patel\\appdata\\roaming\\python\\python312\\site-packages (from scikit-learn->-r requirements.txt (line 4)) (3.5.0)\n",
            "Requirement already satisfied: jsonschema>=3.0 in c:\\users\\patel\\appdata\\roaming\\python\\python312\\site-packages (from altair<6,>=4.0->streamlit->-r requirements.txt (line 1)) (4.22.0)\n",
            "Requirement already satisfied: toolz in c:\\users\\patel\\appdata\\roaming\\python\\python312\\site-packages (from altair<6,>=4.0->streamlit->-r requirements.txt (line 1)) (0.12.1)\n",
            "Requirement already satisfied: colorama in c:\\users\\patel\\appdata\\roaming\\python\\python312\\site-packages (from click<9,>=7.0->streamlit->-r requirements.txt (line 1)) (0.4.6)\n",
            "Requirement already satisfied: gitdb<5,>=4.0.1 in c:\\users\\patel\\appdata\\roaming\\python\\python312\\site-packages (from gitpython!=3.1.19,<4,>=3.0.7->streamlit->-r requirements.txt (line 1)) (4.0.11)\n",
            "Requirement already satisfied: python-dateutil>=2.8.2 in c:\\users\\patel\\appdata\\roaming\\python\\python312\\site-packages (from pandas<3,>=1.3.0->streamlit->-r requirements.txt (line 1)) (2.8.2)\n",
            "Requirement already satisfied: pytz>=2020.1 in c:\\users\\patel\\appdata\\roaming\\python\\python312\\site-packages (from pandas<3,>=1.3.0->streamlit->-r requirements.txt (line 1)) (2024.1)\n",
            "Requirement already satisfied: tzdata>=2022.7 in c:\\users\\patel\\appdata\\roaming\\python\\python312\\site-packages (from pandas<3,>=1.3.0->streamlit->-r requirements.txt (line 1)) (2024.1)\n",
            "Requirement already satisfied: MarkupSafe>=2.0 in c:\\users\\patel\\appdata\\roaming\\python\\python312\\site-packages (from jinja2->torch->-r requirements.txt (line 2)) (2.1.5)\n",
            "Requirement already satisfied: charset-normalizer<4,>=2 in c:\\users\\patel\\appdata\\roaming\\python\\python312\\site-packages (from requests<3,>=2.27->streamlit->-r requirements.txt (line 1)) (3.3.2)\n",
            "Requirement already satisfied: idna<4,>=2.5 in c:\\users\\patel\\appdata\\roaming\\python\\python312\\site-packages (from requests<3,>=2.27->streamlit->-r requirements.txt (line 1)) (3.7)\n",
            "Requirement already satisfied: urllib3<3,>=1.21.1 in c:\\users\\patel\\appdata\\roaming\\python\\python312\\site-packages (from requests<3,>=2.27->streamlit->-r requirements.txt (line 1)) (2.2.2)\n",
            "Requirement already satisfied: certifi>=2017.4.17 in c:\\users\\patel\\appdata\\roaming\\python\\python312\\site-packages (from requests<3,>=2.27->streamlit->-r requirements.txt (line 1)) (2024.2.2)\n",
            "Requirement already satisfied: markdown-it-py>=2.2.0 in c:\\users\\patel\\appdata\\roaming\\python\\python312\\site-packages (from rich<14,>=10.14.0->streamlit->-r requirements.txt (line 1)) (3.0.0)\n",
            "Requirement already satisfied: pygments<3.0.0,>=2.13.0 in c:\\users\\patel\\appdata\\roaming\\python\\python312\\site-packages (from rich<14,>=10.14.0->streamlit->-r requirements.txt (line 1)) (2.17.2)\n",
            "Requirement already satisfied: mpmath<1.4,>=1.1.0 in c:\\users\\patel\\appdata\\roaming\\python\\python312\\site-packages (from sympy->torch->-r requirements.txt (line 2)) (1.3.0)\n",
            "Requirement already satisfied: smmap<6,>=3.0.1 in c:\\users\\patel\\appdata\\roaming\\python\\python312\\site-packages (from gitdb<5,>=4.0.1->gitpython!=3.1.19,<4,>=3.0.7->streamlit->-r requirements.txt (line 1)) (5.0.1)\n",
            "Requirement already satisfied: attrs>=22.2.0 in c:\\users\\patel\\appdata\\roaming\\python\\python312\\site-packages (from jsonschema>=3.0->altair<6,>=4.0->streamlit->-r requirements.txt (line 1)) (23.2.0)\n",
            "Requirement already satisfied: jsonschema-specifications>=2023.03.6 in c:\\users\\patel\\appdata\\roaming\\python\\python312\\site-packages (from jsonschema>=3.0->altair<6,>=4.0->streamlit->-r requirements.txt (line 1)) (2023.12.1)\n",
            "Requirement already satisfied: referencing>=0.28.4 in c:\\users\\patel\\appdata\\roaming\\python\\python312\\site-packages (from jsonschema>=3.0->altair<6,>=4.0->streamlit->-r requirements.txt (line 1)) (0.35.1)\n",
            "Requirement already satisfied: rpds-py>=0.7.1 in c:\\users\\patel\\appdata\\roaming\\python\\python312\\site-packages (from jsonschema>=3.0->altair<6,>=4.0->streamlit->-r requirements.txt (line 1)) (0.20.0)\n",
            "Requirement already satisfied: mdurl~=0.1 in c:\\users\\patel\\appdata\\roaming\\python\\python312\\site-packages (from markdown-it-py>=2.2.0->rich<14,>=10.14.0->streamlit->-r requirements.txt (line 1)) (0.1.2)\n",
            "Requirement already satisfied: six>=1.5 in c:\\users\\patel\\appdata\\roaming\\python\\python312\\site-packages (from python-dateutil>=2.8.2->pandas<3,>=1.3.0->streamlit->-r requirements.txt (line 1)) (1.16.0)\n"
          ]
        }
      ],
      "source": [
        "!pip install -r requirements.txt\n",
        "import torch\n",
        "from transformers import AutoTokenizer, AutoModel\n",
        "from sklearn.metrics.pairwise import cosine_similarity\n",
        "import numpy as np"
      ]
    },
    {
      "cell_type": "code",
      "execution_count": 4,
      "metadata": {
        "id": "SaXWGAG0XlqO"
      },
      "outputs": [],
      "source": [
        "support_tickets = [\n",
        "    {\"text\": \"My account login is not working. I've tried resetting my password twice.\"},\n",
        "    {\"text\": \"The app crashes every time I try to upload a photo.\"},\n",
        "    {\"text\": \"I was charged twice for my last subscription payment.\"},\n",
        "    {\"text\": \"I can't find the option to change my profile picture.\"},\n",
        "    {\"text\": \"The video playback is very laggy on my device.\"}\n",
        "]\n",
        "knowledge_base = [\n",
        "    \"Category 1 -Login Issues -Login issues often occur due to incorrect passwords or account lockouts.\",\n",
        "    \"Category 2 -App Functionality -App crashes can be caused by outdated software or device incompatibility.\",\n",
        "    \"Category 3 -Billing -Billing discrepancies may result from processing errors or duplicate transactions.\",\n",
        "    \"Category 4 -Account Management -Account management includes tasks such as changing profile information, linking social media accounts, and managing privacy settings.\",\n",
        "    \"Category 5 -Performance Issues -Performance issues can be related to device specifications, network connectivity, or app optimization.\"\n",
        "]"
      ]
    },
    {
      "cell_type": "code",
      "execution_count": null,
      "metadata": {
        "id": "tuOPDk-2Xn94"
      },
      "outputs": [],
      "source": [
        "model_name = \"sentence-transformers/all-MiniLM-L6-v2\"\n",
        "tokenizer = AutoTokenizer.from_pretrained(model_name)\n",
        "model = AutoModel.from_pretrained(model_name)"
      ]
    },
    {
      "cell_type": "code",
      "execution_count": 6,
      "metadata": {
        "id": "G9JmaK85XoBy"
      },
      "outputs": [],
      "source": [
        "def get_embedding(text):\n",
        "    inputs = tokenizer(text, return_tensors=\"pt\", truncation=True, padding=True, max_length=512)\n",
        "    with torch.no_grad():\n",
        "        outputs = model(**inputs)\n",
        "    return outputs.last_hidden_state.mean(dim=1).squeeze().numpy()"
      ]
    },
    {
      "cell_type": "code",
      "execution_count": 7,
      "metadata": {
        "id": "YE7VHhGSXoEE"
      },
      "outputs": [],
      "source": [
        "knowledge_base_embeddings = np.array([get_embedding(cat) for cat in knowledge_base])\n"
      ]
    },
    {
      "cell_type": "code",
      "execution_count": 8,
      "metadata": {
        "id": "y72kTT_TXoHd"
      },
      "outputs": [],
      "source": [
        "def retrieve_most_relevant(query_embedding, top_k=1):\n",
        "    similarities = cosine_similarity([query_embedding], knowledge_base_embeddings)[0]\n",
        "    top_indices = similarities.argsort()[-top_k:][::-1]\n",
        "    return [knowledge_base[i] for i in top_indices]"
      ]
    },
    {
      "cell_type": "code",
      "execution_count": 9,
      "metadata": {
        "id": "NIj4LXk5XoK4"
      },
      "outputs": [],
      "source": [
        "def classify_ticket(ticket_text):\n",
        "    ticket_embedding = get_embedding(ticket_text)\n",
        "    relevant_category = retrieve_most_relevant(ticket_embedding)[0]\n",
        "    classification = relevant_category.split(\" -\")[0]\n",
        "    return classification"
      ]
    },
    {
      "cell_type": "code",
      "execution_count": 10,
      "metadata": {
        "colab": {
          "base_uri": "https://localhost:8080/"
        },
        "id": "CcEFNrlNX6p6",
        "outputId": "f12fff1a-5cc5-4368-f94e-1598d88fefb3"
      },
      "outputs": [
        {
          "name": "stdout",
          "output_type": "stream",
          "text": [
            "Ticket: My account login is not working. I've tried resetting my password twice.\n",
            "Classification: Category 1\n",
            "\n",
            "Ticket: The app crashes every time I try to upload a photo.\n",
            "Classification: Category 2\n",
            "\n",
            "Ticket: I was charged twice for my last subscription payment.\n",
            "Classification: Category 3\n",
            "\n",
            "Ticket: I can't find the option to change my profile picture.\n",
            "Classification: Category 4\n",
            "\n",
            "Ticket: The video playback is very laggy on my device.\n",
            "Classification: Category 5\n",
            "\n"
          ]
        }
      ],
      "source": [
        "for ticket in support_tickets:\n",
        "    classification = classify_ticket(ticket['text'])\n",
        "    print(f\"Ticket: {ticket['text']}\\nClassification: {classification}\\n\")"
      ]
    },
    {
      "cell_type": "code",
      "execution_count": 11,
      "metadata": {
        "id": "1B84VMIQYFTR"
      },
      "outputs": [],
      "source": [
        "def evaluate_classifier(test_tickets):\n",
        "    correct = 0\n",
        "    total = len(test_tickets)\n",
        "\n",
        "    for ticket in test_tickets:\n",
        "        true_label = ticket[\"label\"]\n",
        "        predicted_label = classify_ticket(ticket[\"text\"])\n",
        "        if predicted_label == true_label:\n",
        "            correct += 1\n",
        "\n",
        "    accuracy = correct / total\n",
        "    print(f\"Accuracy: {accuracy:.2f}\")"
      ]
    },
    {
      "cell_type": "code",
      "execution_count": 12,
      "metadata": {
        "colab": {
          "base_uri": "https://localhost:8080/"
        },
        "id": "4aujXLuyYKCY",
        "outputId": "497ff96f-c054-4921-dd40-2fc596c9bbf7"
      },
      "outputs": [
        {
          "name": "stdout",
          "output_type": "stream",
          "text": [
            "Accuracy: 0.95\n"
          ]
        }
      ],
      "source": [
        "test_tickets = [\n",
        "    {\"text\": \"I can't log in to my account. It says my password is incorrect.\", \"label\": \"Category 1\"},\n",
        "    {\"text\": \"The app keeps crashing when I open it on my iPhone.\", \"label\": \"Category 2\"},\n",
        "    {\"text\": \"I was charged $19.99 twice this month for my subscription.\", \"label\": \"Category 3\"},\n",
        "    {\"text\": \"How do I change my profile picture? I can't find the option.\", \"label\": \"Category 4\"},\n",
        "    {\"text\": \"Videos are buffering constantly and the quality is poor.\", \"label\": \"Category 5\"},\n",
        "    {\"text\": \"I forgot my username. How can I recover it?\", \"label\": \"Category 1\"},\n",
        "    {\"text\": \"The app freezes when I try to send a message.\", \"label\": \"Category 2\"},\n",
        "    {\"text\": \"I cancelled my subscription but I'm still being charged.\", \"label\": \"Category 3\"},\n",
        "    {\"text\": \"Is there a way to make my account private?\", \"label\": \"Category 4\"},\n",
        "    {\"text\": \"The app is using too much battery on my device.\", \"label\": \"Category 5\"},\n",
        "    {\"text\": \"I'm getting an error message when trying to reset my password.\", \"label\": \"Category 1\"},\n",
        "    {\"text\": \"The search function in the app isn't working properly.\", \"label\": \"Category 2\"},\n",
        "    {\"text\": \"Can I get a refund for an accidental purchase?\", \"label\": \"Category 3\"},\n",
        "    {\"text\": \"How do I link my Facebook account to my profile?\", \"label\": \"Category 4\"},\n",
        "    {\"text\": \"The app is very slow to load on my Android phone.\", \"label\": \"Category 5\"},\n",
        "    {\"text\": \"I'm locked out of my account after too many login attempts.\", \"label\": \"Category 1\"},\n",
        "    {\"text\": \"The notification sounds aren't working in the app.\", \"label\": \"Category 2\"},\n",
        "    {\"text\": \"I don't recognize a charge on my account statement.\", \"label\": \"Category 3\"},\n",
        "    {\"text\": \"How can I change my email address associated with my account?\", \"label\": \"Category 4\"},\n",
        "    {\"text\": \"The live streaming feature is lagging and cutting out frequently.\", \"label\": \"Category 5\"}\n",
        "]\n",
        "\n",
        "\n",
        "evaluate_classifier(test_tickets)"
      ]
    },
    {
      "cell_type": "code",
      "execution_count": 13,
      "metadata": {
        "colab": {
          "base_uri": "https://localhost:8080/"
        },
        "id": "_z8NJgO7YKI9",
        "outputId": "f6d6f4d3-b192-457d-ae33-f9c7d15993a4"
      },
      "outputs": [
        {
          "name": "stdout",
          "output_type": "stream",
          "text": [
            "Ticket: My account login is not working. I've tried resetting my password twice.\n",
            "Classification: Category 1\n",
            "\n",
            "Ticket: My account login is not working. I've tried resetting my password twice.\n",
            "Classification: Category 1\n",
            "\n",
            "Ticket: The app crashes every time I try to upload a photo.\n",
            "Classification: Category 2\n",
            "\n",
            "Ticket: I was charged twice for my last subscription payment.\n",
            "Classification: Category 3\n",
            "\n",
            "Ticket: I can't find the option to change my profile picture.\n",
            "Classification: Category 4\n",
            "\n",
            "Ticket: The video playback is very laggy on my device.\n",
            "Classification: Category 5\n",
            "\n"
          ]
        }
      ],
      "source": [
        "# Test the classifier with a specific example\n",
        "test_ticket = \"My account login is not working. I've tried resetting my password twice.\"\n",
        "classification = classify_ticket(test_ticket)\n",
        "print(f\"Ticket: {test_ticket}\\nClassification: {classification}\\n\")\n",
        "\n",
        "# Additional testing with other sample tickets\n",
        "for ticket in support_tickets:\n",
        "    classification = classify_ticket(ticket['text'])\n",
        "    print(f\"Ticket: {ticket['text']}\\nClassification: {classification}\\n\")\n"
      ]
    },
    {
      "cell_type": "code",
      "execution_count": 14,
      "metadata": {
        "colab": {
          "base_uri": "https://localhost:8080/"
        },
        "id": "d9_nlPIyYKMb",
        "outputId": "f5ab77f2-b9f2-490d-b5fe-2c34244ff824"
      },
      "outputs": [
        {
          "name": "stdout",
          "output_type": "stream",
          "text": [
            "Ticket: I can't log in to my account. It says my password is incorrect.\n",
            "Expected Label: Category 1\n",
            "Predicted Classification: Category 1\n",
            "\n",
            "Ticket: The app keeps crashing when I open it on my iPhone.\n",
            "Expected Label: Category 2\n",
            "Predicted Classification: Category 2\n",
            "\n",
            "Ticket: I was charged $19.99 twice this month for my subscription.\n",
            "Expected Label: Category 3\n",
            "Predicted Classification: Category 3\n",
            "\n",
            "Ticket: How do I change my profile picture? I can't find the option.\n",
            "Expected Label: Category 4\n",
            "Predicted Classification: Category 4\n",
            "\n",
            "Ticket: Videos are buffering constantly and the quality is poor.\n",
            "Expected Label: Category 5\n",
            "Predicted Classification: Category 5\n",
            "\n",
            "Ticket: I forgot my username. How can I recover it?\n",
            "Expected Label: Category 1\n",
            "Predicted Classification: Category 1\n",
            "\n",
            "Ticket: The app freezes when I try to send a message.\n",
            "Expected Label: Category 2\n",
            "Predicted Classification: Category 2\n",
            "\n",
            "Ticket: I cancelled my subscription but I'm still being charged.\n",
            "Expected Label: Category 3\n",
            "Predicted Classification: Category 3\n",
            "\n",
            "Ticket: Is there a way to make my account private?\n",
            "Expected Label: Category 4\n",
            "Predicted Classification: Category 4\n",
            "\n",
            "Ticket: The app is using too much battery on my device.\n",
            "Expected Label: Category 5\n",
            "Predicted Classification: Category 2\n",
            "\n",
            "Ticket: I'm getting an error message when trying to reset my password.\n",
            "Expected Label: Category 1\n",
            "Predicted Classification: Category 1\n",
            "\n",
            "Ticket: The search function in the app isn't working properly.\n",
            "Expected Label: Category 2\n",
            "Predicted Classification: Category 2\n",
            "\n",
            "Ticket: Can I get a refund for an accidental purchase?\n",
            "Expected Label: Category 3\n",
            "Predicted Classification: Category 3\n",
            "\n",
            "Ticket: How do I link my Facebook account to my profile?\n",
            "Expected Label: Category 4\n",
            "Predicted Classification: Category 4\n",
            "\n",
            "Ticket: The app is very slow to load on my Android phone.\n",
            "Expected Label: Category 5\n",
            "Predicted Classification: Category 5\n",
            "\n",
            "Ticket: I'm locked out of my account after too many login attempts.\n",
            "Expected Label: Category 1\n",
            "Predicted Classification: Category 1\n",
            "\n",
            "Ticket: The notification sounds aren't working in the app.\n",
            "Expected Label: Category 2\n",
            "Predicted Classification: Category 2\n",
            "\n",
            "Ticket: I don't recognize a charge on my account statement.\n",
            "Expected Label: Category 3\n",
            "Predicted Classification: Category 3\n",
            "\n",
            "Ticket: How can I change my email address associated with my account?\n",
            "Expected Label: Category 4\n",
            "Predicted Classification: Category 4\n",
            "\n",
            "Ticket: The live streaming feature is lagging and cutting out frequently.\n",
            "Expected Label: Category 5\n",
            "Predicted Classification: Category 5\n",
            "\n"
          ]
        }
      ],
      "source": [
        "# Define the test tickets\n",
        "test_tickets = [\n",
        "    {\"text\": \"I can't log in to my account. It says my password is incorrect.\", \"label\": \"Category 1\"},\n",
        "    {\"text\": \"The app keeps crashing when I open it on my iPhone.\", \"label\": \"Category 2\"},\n",
        "    {\"text\": \"I was charged $19.99 twice this month for my subscription.\", \"label\": \"Category 3\"},\n",
        "    {\"text\": \"How do I change my profile picture? I can't find the option.\", \"label\": \"Category 4\"},\n",
        "    {\"text\": \"Videos are buffering constantly and the quality is poor.\", \"label\": \"Category 5\"},\n",
        "    {\"text\": \"I forgot my username. How can I recover it?\", \"label\": \"Category 1\"},\n",
        "    {\"text\": \"The app freezes when I try to send a message.\", \"label\": \"Category 2\"},\n",
        "    {\"text\": \"I cancelled my subscription but I'm still being charged.\", \"label\": \"Category 3\"},\n",
        "    {\"text\": \"Is there a way to make my account private?\", \"label\": \"Category 4\"},\n",
        "    {\"text\": \"The app is using too much battery on my device.\", \"label\": \"Category 5\"},\n",
        "    {\"text\": \"I'm getting an error message when trying to reset my password.\", \"label\": \"Category 1\"},\n",
        "    {\"text\": \"The search function in the app isn't working properly.\", \"label\": \"Category 2\"},\n",
        "    {\"text\": \"Can I get a refund for an accidental purchase?\", \"label\": \"Category 3\"},\n",
        "    {\"text\": \"How do I link my Facebook account to my profile?\", \"label\": \"Category 4\"},\n",
        "    {\"text\": \"The app is very slow to load on my Android phone.\", \"label\": \"Category 5\"},\n",
        "    {\"text\": \"I'm locked out of my account after too many login attempts.\", \"label\": \"Category 1\"},\n",
        "    {\"text\": \"The notification sounds aren't working in the app.\", \"label\": \"Category 2\"},\n",
        "    {\"text\": \"I don't recognize a charge on my account statement.\", \"label\": \"Category 3\"},\n",
        "    {\"text\": \"How can I change my email address associated with my account?\", \"label\": \"Category 4\"},\n",
        "    {\"text\": \"The live streaming feature is lagging and cutting out frequently.\", \"label\": \"Category 5\"}\n",
        "]\n",
        "\n",
        "# Run the classifier on each ticket\n",
        "for ticket in test_tickets:\n",
        "    classification = classify_ticket(ticket['text'])\n",
        "    print(f\"Ticket: {ticket['text']}\\nExpected Label: {ticket['label']}\\nPredicted Classification: {classification}\\n\")\n"
      ]
    }
  ],
  "metadata": {
    "colab": {
      "provenance": []
    },
    "kernelspec": {
      "display_name": "Python 3",
      "name": "python3"
    },
    "language_info": {
      "codemirror_mode": {
        "name": "ipython",
        "version": 3
      },
      "file_extension": ".py",
      "mimetype": "text/x-python",
      "name": "python",
      "nbconvert_exporter": "python",
      "pygments_lexer": "ipython3",
      "version": "3.12.5"
    }
  },
  "nbformat": 4,
  "nbformat_minor": 0
}
